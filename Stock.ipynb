{
 "cells": [
  {
   "cell_type": "code",
   "execution_count": 1,
   "metadata": {},
   "outputs": [],
   "source": [
    "from alpha_vantage.timeseries import TimeSeries\n",
    "import pandas as pd\n",
    "import matplotlib.pyplot as plt"
   ]
  },
  {
   "cell_type": "code",
   "execution_count": 2,
   "metadata": {},
   "outputs": [],
   "source": [
    "alpha_vantage_api_key = \"LMGOFZV0ETLS0LZY\""
   ]
  },
  {
   "cell_type": "code",
   "execution_count": 5,
   "metadata": {},
   "outputs": [],
   "source": [
    "def pull_intraday_time_series_alpha_vantage(alpha_vantage_api_key, ticker_name, data_interval = '5min'):\n",
    "    \"\"\"\n",
    "    Pull intraday time series data by stock ticker name.\n",
    "    Args:\n",
    "        alpha_vantage_api_key: Str. Alpha Vantage API key.\n",
    "        ticker_name: Str. Ticker name that we want to pull.\n",
    "        data_interval: String. Desired data interval for the data. Can be '1min', '5min', '15min', '30min', '60min'.\n",
    "    Outputs:\n",
    "        data: Dataframe. Time series data, including open, high, low, close, and datetime values.\n",
    "        metadata: Dataframe. Metadata associated with the time series.   \n",
    "    \"\"\"\n",
    "    #Generate Alpha Vantage time series object\n",
    "    ts = TimeSeries(key = alpha_vantage_api_key, output_format = 'pandas')\n",
    "    #Retrieve the data for the past sixty days (outputsize = full)\n",
    "    data, meta_data = ts.get_intraday(ticker_name, outputsize = 'full', interval= data_interval)\n",
    "    data['date_time'] = data.index\n",
    "    return data, meta_data\n",
    "\n",
    "def plot_data(df, x_variable, y_variable, title):\n",
    "    \"\"\"\n",
    "    Plot the x- and y- variables against each other, where the variables are columns in\n",
    "    a pandas dataframe\n",
    "    Args:\n",
    "        df: Pandas dataframe, containing x_variable and y_variable columns. \n",
    "        x_variable: String. Name of x-variable column\n",
    "        y_variable: String. Name of y-variable column\n",
    "        title: String. Desired title name in the plot.\n",
    "    Outputs:\n",
    "        Plot in the console. \n",
    "    \"\"\"\n",
    "    fig, ax = plt.subplots()\n",
    "    ax.plot_date(df[x_variable], \n",
    "                 df[y_variable], marker='', linestyle='-', label=y_variable)\n",
    "    fig.autofmt_xdate()\n",
    "    plt.title(title)\n",
    "    plt.show()\n"
   ]
  },
  {
   "cell_type": "code",
   "execution_count": 6,
   "metadata": {},
   "outputs": [
    {
     "data": {
      "text/plain": [
       "(                     1. open  2. high  3. low  4. close  5. volume  \\\n",
       " date                                                                 \n",
       " 2020-10-12 20:00:00   124.98   124.98  124.85    124.92    93701.0   \n",
       " 2020-10-12 19:55:00   124.88   124.98  124.86    124.98    60747.0   \n",
       " 2020-10-12 19:50:00   124.89   124.90  124.85    124.87    38060.0   \n",
       " 2020-10-12 19:45:00   124.84   124.91  124.84    124.89    45044.0   \n",
       " 2020-10-12 19:40:00   124.88   124.90  124.83    124.85    48341.0   \n",
       " ...                      ...      ...     ...       ...        ...   \n",
       " 2020-09-14 04:25:00   114.50   114.50  114.30    114.30    10748.0   \n",
       " 2020-09-14 04:20:00   114.70   114.89  114.55    114.55    10945.0   \n",
       " 2020-09-14 04:15:00   114.70   114.70  114.52    114.70    13386.0   \n",
       " 2020-09-14 04:10:00   114.90   114.99  114.80    114.80    11306.0   \n",
       " 2020-09-14 04:05:00   114.65   115.15  114.28    114.94    39543.0   \n",
       " \n",
       "                               date_time  \n",
       " date                                     \n",
       " 2020-10-12 20:00:00 2020-10-12 20:00:00  \n",
       " 2020-10-12 19:55:00 2020-10-12 19:55:00  \n",
       " 2020-10-12 19:50:00 2020-10-12 19:50:00  \n",
       " 2020-10-12 19:45:00 2020-10-12 19:45:00  \n",
       " 2020-10-12 19:40:00 2020-10-12 19:40:00  \n",
       " ...                                 ...  \n",
       " 2020-09-14 04:25:00 2020-09-14 04:25:00  \n",
       " 2020-09-14 04:20:00 2020-09-14 04:20:00  \n",
       " 2020-09-14 04:15:00 2020-09-14 04:15:00  \n",
       " 2020-09-14 04:10:00 2020-09-14 04:10:00  \n",
       " 2020-09-14 04:05:00 2020-09-14 04:05:00  \n",
       " \n",
       " [4022 rows x 6 columns],\n",
       " {'1. Information': 'Intraday (5min) open, high, low, close prices and volume',\n",
       "  '2. Symbol': 'AAPL',\n",
       "  '3. Last Refreshed': '2020-10-12 20:00:00',\n",
       "  '4. Interval': '5min',\n",
       "  '5. Output Size': 'Full size',\n",
       "  '6. Time Zone': 'US/Eastern'})"
      ]
     },
     "execution_count": 6,
     "metadata": {},
     "output_type": "execute_result"
    }
   ],
   "source": [
    "pull_intraday_time_series_alpha_vantage(alpha_vantage_api_key, ticker_name = \"AAPL\")"
   ]
  },
  {
   "cell_type": "code",
   "execution_count": null,
   "metadata": {},
   "outputs": [],
   "source": []
  }
 ],
 "metadata": {
  "kernelspec": {
   "display_name": "Python 3",
   "language": "python",
   "name": "python3"
  },
  "language_info": {
   "codemirror_mode": {
    "name": "ipython",
    "version": 3
   },
   "file_extension": ".py",
   "mimetype": "text/x-python",
   "name": "python",
   "nbconvert_exporter": "python",
   "pygments_lexer": "ipython3",
   "version": "3.7.7"
  }
 },
 "nbformat": 4,
 "nbformat_minor": 4
}
